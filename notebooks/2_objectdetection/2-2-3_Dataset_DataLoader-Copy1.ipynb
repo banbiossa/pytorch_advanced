{
 "cells": [
  {
   "cell_type": "markdown",
   "metadata": {},
   "source": [
    "# 2.2 Datasetの実装、 2.3 DataLoaderの実装\n",
    "\n",
    "本ファイルでは、SSDなど物体検出アルゴリズム用のDatasetとDataLoaderを作成します。\n",
    "\n",
    "VOC2012データセットを対象とします。\n"
   ]
  },
  {
   "cell_type": "markdown",
   "metadata": {},
   "source": [
    "# 2.2 学習目標\n",
    "\n",
    "1.\t物体検出で使用するDatasetクラスを作成できるようになる\n",
    "2.\tSSDの学習時のデータオーギュメンテーションで、何をしているのかを理解する\n",
    "\n"
   ]
  },
  {
   "cell_type": "markdown",
   "metadata": {},
   "source": [
    "# 2.3 学習目標\n",
    "\n",
    "1.\t物体検出で使用するDataLoaderクラスを作成できるようになる\n",
    "\n"
   ]
  },
  {
   "cell_type": "markdown",
   "metadata": {},
   "source": [
    "# 事前準備\n",
    "\n",
    "\n",
    "OpenCVのインストール\n",
    "\n",
    "- pip install opencv-python\n",
    "\n",
    "本書の指示に従い、VOC2010のデータセットをダウンロード\n",
    "\n",
    "- http://host.robots.ox.ac.uk/pascal/VOC/voc2012/\n",
    "\n"
   ]
  },
  {
   "cell_type": "code",
   "execution_count": 1,
   "metadata": {},
   "outputs": [],
   "source": [
    "%load_ext autoreload\n",
    "%autoreload 2"
   ]
  },
  {
   "cell_type": "code",
   "execution_count": 2,
   "metadata": {},
   "outputs": [],
   "source": [
    "# パッケージのimport\n",
    "from pathlib import Path\n",
    "import random\n",
    "# XMLをファイルやテキストから読み込んだり、加工したり、\n",
    "# 保存したりするためのライブラリ\n",
    "import xml.etree.ElementTree as ET\n",
    "\n",
    "import cv2\n",
    "import matplotlib.pyplot as plt\n",
    "import numpy as np\n",
    "import torch\n",
    "import torch.utils.data as data\n",
    "\n",
    "%matplotlib inline\n",
    "%load_ext blackcellmagic"
   ]
  },
  {
   "cell_type": "code",
   "execution_count": 3,
   "metadata": {},
   "outputs": [],
   "source": [
    "# 乱数のシードを設定\n",
    "torch.manual_seed(1234)\n",
    "np.random.seed(1234)\n",
    "random.seed(1234)"
   ]
  },
  {
   "cell_type": "markdown",
   "metadata": {},
   "source": [
    "# 画像データ、アノテーションデータへのファイルパスのリストを作成する"
   ]
  },
  {
   "cell_type": "code",
   "execution_count": 23,
   "metadata": {},
   "outputs": [],
   "source": [
    "# from pytorch_advanced.c02_ssd.annotations import make_data_path_list\n",
    "from pathlib import Path\n",
    "from __future__ import annotations"
   ]
  },
  {
   "cell_type": "code",
   "execution_count": 16,
   "metadata": {},
   "outputs": [],
   "source": [
    "# 学習、検証の画像データとアノテーションデータへのファイルパスリストを作成する\n",
    "\n",
    "\n",
    "def make_datapath_list(rootpath: str|Path) -> tuple[list[Path], list[Path], list[Path], list[Path]]:\n",
    "    \"\"\"\n",
    "    データへのパスを格納したリストを作成する。\n",
    "\n",
    "    Parameters\n",
    "    ----------\n",
    "    rootpath : str\n",
    "        データフォルダへのパス\n",
    "\n",
    "    Returns\n",
    "    -------\n",
    "    ret : train_img_list, train_anno_list, val_img_list, val_anno_list\n",
    "        データへのパスを格納したリスト\n",
    "    \"\"\"\n",
    "    rootpath = Path(rootpath)\n",
    "\n",
    "    # 画像ファイルとアノテーションファイルへのパスのテンプレートを作成\n",
    "    img_dir = rootpath / \"data\" / \"images\"\n",
    "    annot_dir = rootpath / \"data\" / \"annotations\"\n",
    "\n",
    "    # 訓練と検証、それぞれのファイルのID（ファイル名）を取得する\n",
    "    train_id_names = rootpath / \"data\" / \"train_list.txt\"\n",
    "    val_id_names = rootpath / \"data\" / \"val_list.txt\"\n",
    "\n",
    "    # 訓練データの画像ファイルとアノテーションファイルへのパスリストを作成\n",
    "    train_ids = train_id_names.read_text().split(\"\\n\")\n",
    "    val_ids = val_id_names.read_text().split(\"\\n\")\n",
    "    train_img_list, train_anno_list = image_and_annotation_list(train_ids, img_dir, annot_dir)\n",
    "    val_img_list, val_anno_list = image_and_annotation_list(val_ids, img_dir, annot_dir)\n",
    "\n",
    "    return train_img_list, train_anno_list, val_img_list, val_anno_list\n",
    "\n",
    "def image_and_annotation_list(file_ids: list[str], image_dir: Path, annot_dir: Path) -> tuple[list[Path], list[Path]]:\n",
    "    return [image_dir / f\"{f}.png\" for f in file_ids], [annot_dir / f\"{f}.json\" for f in file_ids]\n",
    "                               \n",
    "                               "
   ]
  },
  {
   "cell_type": "code",
   "execution_count": null,
   "metadata": {},
   "outputs": [],
   "source": []
  },
  {
   "cell_type": "code",
   "execution_count": 17,
   "metadata": {},
   "outputs": [
    {
     "name": "stdout",
     "output_type": "stream",
     "text": [
      "data/images/0000.png\n",
      "data/annotations/0007.json\n"
     ]
    }
   ],
   "source": [
    "# ファイルパスのリストを作成\n",
    "rootpath = Path(\"./\")\n",
    "train_img_list, train_anno_list, val_img_list, val_anno_list = make_datapath_list(\n",
    "    rootpath\n",
    ")\n",
    "\n",
    "# 動作確認\n",
    "print(train_img_list[0])\n",
    "print(val_anno_list[0])"
   ]
  },
  {
   "cell_type": "markdown",
   "metadata": {},
   "source": [
    "# xml形式のアノテーションデータをリストに変換する"
   ]
  },
  {
   "cell_type": "code",
   "execution_count": 6,
   "metadata": {},
   "outputs": [],
   "source": [
    "from pytorch_advanced.c02_ssd.annotations import AnnoXML2List"
   ]
  },
  {
   "cell_type": "code",
   "execution_count": 21,
   "metadata": {},
   "outputs": [
    {
     "name": "stdout",
     "output_type": "stream",
     "text": [
      "Collecting pyserde\n",
      "  Downloading pyserde-0.6.0-py3-none-any.whl (66 kB)\n",
      "     |████████████████████████████████| 66 kB 2.8 MB/s            \n",
      "\u001b[?25hRequirement already satisfied: jinja2 in /home/jupyter/.conda/envs/python38/lib/python3.8/site-packages (from pyserde) (3.0.3)\n",
      "Collecting stringcase\n",
      "  Downloading stringcase-1.2.0.tar.gz (3.0 kB)\n",
      "  Preparing metadata (setup.py) ... \u001b[?25ldone\n",
      "\u001b[?25hCollecting typing_inspect>=0.4.0\n",
      "  Downloading typing_inspect-0.7.1-py3-none-any.whl (8.4 kB)\n",
      "Requirement already satisfied: typing-extensions>=3.7.4 in /home/jupyter/.conda/envs/python38/lib/python3.8/site-packages (from typing_inspect>=0.4.0->pyserde) (4.0.1)\n",
      "Requirement already satisfied: mypy-extensions>=0.3.0 in /home/jupyter/.conda/envs/python38/lib/python3.8/site-packages (from typing_inspect>=0.4.0->pyserde) (0.4.3)\n",
      "Requirement already satisfied: MarkupSafe>=2.0 in /home/jupyter/.conda/envs/python38/lib/python3.8/site-packages (from jinja2->pyserde) (2.0.1)\n",
      "Building wheels for collected packages: stringcase\n",
      "  Building wheel for stringcase (setup.py) ... \u001b[?25ldone\n",
      "\u001b[?25h  Created wheel for stringcase: filename=stringcase-1.2.0-py3-none-any.whl size=3587 sha256=a9720773dcadbaea83af3cb3f595afd0db7a34c76cbf5642ef8e1bd6bcd00754\n",
      "  Stored in directory: /home/jupyter/.cache/pip/wheels/04/0e/31/bf265c64f2a4d24516e9923f1f6293c3bcbcde75e0d80ab47a\n",
      "Successfully built stringcase\n",
      "Installing collected packages: typing-inspect, stringcase, pyserde\n",
      "Successfully installed pyserde-0.6.0 stringcase-1.2.0 typing-inspect-0.7.1\n"
     ]
    }
   ],
   "source": [
    "!pip install pyserde"
   ]
  },
  {
   "cell_type": "code",
   "execution_count": 68,
   "metadata": {},
   "outputs": [],
   "source": [
    "# AnocciデータをPascal VOC形式に変換する\n",
    "\n",
    "from dataclasses import dataclass\n",
    "from pathlib import Path\n",
    "from typing import Optional, List, Tuple\n",
    "from serde import serde\n",
    "from serde.json import from_json\n",
    "import numpy as np\n",
    "\n",
    "\n",
    "@serde\n",
    "@dataclass\n",
    "class ArrowPattern:\n",
    "    axis_length: float\n",
    "    head_length: float\n",
    "    head_degree: float\n",
    "\n",
    "@serde\n",
    "@dataclass\n",
    "class ArrowPosition:\n",
    "    head: Tuple[float, float]\n",
    "    dir: Tuple[float, float]\n",
    "\n",
    "@serde\n",
    "@dataclass\n",
    "class Arrow:\n",
    "    pattern: ArrowPattern\n",
    "    position: ArrowPosition\n",
    "\n",
    "@serde\n",
    "@dataclass\n",
    "class Dimension:\n",
    "    p1: float\n",
    "    p2: float\n",
    "\n",
    "@serde\n",
    "@dataclass\n",
    "class Triangle:\n",
    "    foot: Tuple[float, float]\n",
    "    head: Tuple[float, float]\n",
    "\n",
    "@serde\n",
    "@dataclass\n",
    "class TriangleRow:\n",
    "    triangles: List[Triangle]\n",
    "\n",
    "@serde\n",
    "@dataclass\n",
    "class OldJisSurfaceRoughness:\n",
    "    nose: Tuple[float, float]\n",
    "    foot: Tuple[float, float]\n",
    "    head: str\n",
    "    ra: Optional[float]\n",
    "\n",
    "@serde\n",
    "@dataclass\n",
    "class NewJisSurfaceRoughness:\n",
    "    nose: Tuple[float, float]\n",
    "    foot: Tuple[float, float]\n",
    "    head: str\n",
    "    ra: Optional[float]\n",
    "\n",
    "@serde\n",
    "@dataclass\n",
    "class LineRange:\n",
    "    lower: float\n",
    "    upper: float\n",
    "\n",
    "@serde\n",
    "@dataclass\n",
    "class Box2d:\n",
    "    x: LineRange\n",
    "    y: LineRange\n",
    "\n",
    "@serde\n",
    "@dataclass\n",
    "class DimensionBox:\n",
    "    box2d: Box2d\n",
    "    box_type: str\n",
    "\n",
    "\n",
    "@serde\n",
    "@dataclass\n",
    "class Anocci:\n",
    "    image_dimensions: Tuple[int, int]\n",
    "    arrows: List[Arrow]\n",
    "    dimensions: List[Dimension]\n",
    "    dimension_boxes: List[DimensionBox]\n",
    "    triangle_rows: List[TriangleRow]\n",
    "    old_jis_surface_roughnesses: List[OldJisSurfaceRoughness]\n",
    "    new_jis_surface_roughnesses: List[NewJisSurfaceRoughness]\n",
    "    object_views: List[Box2d]\n",
    "\n",
    "\n",
    "def anocci_from_json(json_path: Path) -> Anocci:\n",
    "    return from_json(Anocci, json_path.read_text())\n",
    "\n",
    "def voc_from_anocci_json(json_path: Path) -> np.ndarray:\n",
    "    anocci = anocci_from_json(json_path)\n",
    "    width, height = anocci.image_dimensions\n",
    "    object_view_label = 1\n",
    "    # object_views = list(map(lambda o: [o.x.lower / width, o.y.lower / height, o.x.upper / width, o.y.upper / height, object_view_label], anocci.object_views))\n",
    "    object_views = list(map(lambda o: [o.x.lower, o.y.lower, o.x.upper, o.y.upper, object_view_label], anocci.object_views))\n",
    "    \n",
    "    return np.array(object_views, dtype=np.float32)\n",
    "    \n",
    "    "
   ]
  },
  {
   "cell_type": "code",
   "execution_count": 69,
   "metadata": {},
   "outputs": [
    {
     "data": {
      "text/plain": [
       "array([[1.1174506e+03, 1.2570345e+03, 1.3876288e+03, 1.8606667e+03,\n",
       "        1.0000000e+00],\n",
       "       [1.9691646e+03, 1.2550258e+03, 2.1479441e+03, 1.8616711e+03,\n",
       "        1.0000000e+00],\n",
       "       [2.7269097e+03, 1.2560062e+03, 2.9979214e+03, 1.8636559e+03,\n",
       "        1.0000000e+00],\n",
       "       [2.7273994e+03, 6.5453888e+02, 2.9968162e+03, 8.3493085e+02,\n",
       "        1.0000000e+00]], dtype=float32)"
      ]
     },
     "execution_count": 69,
     "metadata": {},
     "output_type": "execute_result"
    }
   ],
   "source": [
    "voc_from_anocci_json(val_anno_list[0])"
   ]
  },
  {
   "cell_type": "code",
   "execution_count": 70,
   "metadata": {},
   "outputs": [],
   "source": [
    "# 動作確認　\n",
    "voc_classes = ['object_view']"
   ]
  },
  {
   "cell_type": "code",
   "execution_count": 71,
   "metadata": {},
   "outputs": [],
   "source": [
    "ind = 1\n",
    "image_file_path = val_img_list[ind]\n",
    "json_path = val_anno_list[ind]"
   ]
  },
  {
   "cell_type": "code",
   "execution_count": 72,
   "metadata": {},
   "outputs": [
    {
     "data": {
      "text/plain": [
       "array([[1.2300088e+03, 8.4375336e+02, 1.3673376e+03, 1.5948085e+03,\n",
       "        1.0000000e+00],\n",
       "       [2.5145803e+03, 8.4132275e+02, 3.7930754e+03, 1.5948085e+03,\n",
       "        1.0000000e+00]], dtype=float32)"
      ]
     },
     "execution_count": 72,
     "metadata": {},
     "output_type": "execute_result"
    }
   ],
   "source": [
    "voc_from_anocci_json(json_path)"
   ]
  },
  {
   "cell_type": "raw",
   "metadata": {
    "tags": []
   },
   "source": [
    "# 動作確認　\n",
    "voc_classes = ['aeroplane', 'bicycle', 'bird', 'boat',\n",
    "               'bottle', 'bus', 'car', 'cat', 'chair',\n",
    "               'cow', 'diningtable', 'dog', 'horse',\n",
    "               'motorbike', 'person', 'pottedplant',\n",
    "               'sheep', 'sofa', 'train', 'tvmonitor']\n",
    "\n",
    "transform_anno = Anno_xml2list(voc_classes)\n",
    "\n",
    "# 画像の読み込み OpenCVを使用\n",
    "ind = 1\n",
    "image_file_path = val_img_list[ind]\n",
    "img = cv2.imread(image_file_path)  # [高さ][幅][色BGR]\n",
    "height, width, channels = img.shape  # 画像のサイズを取得\n",
    "\n",
    "# アノテーションをリストで表示\n",
    "transform_anno(val_anno_list[ind], width, height)\n"
   ]
  },
  {
   "cell_type": "markdown",
   "metadata": {},
   "source": [
    "# 画像とアノテーションの前処理を行うクラスDataTransformを作成する"
   ]
  },
  {
   "cell_type": "code",
   "execution_count": null,
   "metadata": {},
   "outputs": [],
   "source": []
  },
  {
   "cell_type": "code",
   "execution_count": 76,
   "metadata": {},
   "outputs": [
    {
     "name": "stdout",
     "output_type": "stream",
     "text": [
      "Collecting albumentations\n",
      "  Downloading albumentations-1.1.0-py3-none-any.whl (102 kB)\n",
      "     |████████████████████████████████| 102 kB 5.6 MB/s            \n",
      "\u001b[?25hCollecting scipy\n",
      "  Downloading scipy-1.7.3-cp38-cp38-manylinux_2_17_x86_64.manylinux2014_x86_64.whl (39.3 MB)\n",
      "     |████████████████████████████████| 39.3 MB 25.8 MB/s            \n",
      "\u001b[?25hCollecting PyYAML\n",
      "  Downloading PyYAML-6.0-cp38-cp38-manylinux_2_5_x86_64.manylinux1_x86_64.manylinux_2_12_x86_64.manylinux2010_x86_64.whl (701 kB)\n",
      "     |████████████████████████████████| 701 kB 95.3 MB/s            \n",
      "\u001b[?25hCollecting qudida>=0.0.4\n",
      "  Downloading qudida-0.0.4-py3-none-any.whl (3.5 kB)\n",
      "Collecting opencv-python-headless>=4.1.1\n",
      "  Downloading opencv_python_headless-4.5.5.62-cp36-abi3-manylinux_2_17_x86_64.manylinux2014_x86_64.whl (47.7 MB)\n",
      "     |████████████████████████████████| 47.7 MB 126.2 MB/s            \n",
      "\u001b[?25hCollecting scikit-image>=0.16.1\n",
      "  Downloading scikit_image-0.19.1-cp38-cp38-manylinux_2_17_x86_64.manylinux2014_x86_64.whl (13.8 MB)\n",
      "     |████████████████████████████████| 13.8 MB 103.6 MB/s            \n",
      "\u001b[?25hRequirement already satisfied: numpy>=1.11.1 in /home/jupyter/.conda/envs/python38/lib/python3.8/site-packages (from albumentations) (1.21.1)\n",
      "Requirement already satisfied: typing-extensions in /home/jupyter/.conda/envs/python38/lib/python3.8/site-packages (from qudida>=0.0.4->albumentations) (4.0.1)\n",
      "Collecting scikit-learn>=0.19.1\n",
      "  Downloading scikit_learn-1.0.2-cp38-cp38-manylinux_2_17_x86_64.manylinux2014_x86_64.whl (26.7 MB)\n",
      "     |████████████████████████████████| 26.7 MB 111.5 MB/s            \n",
      "\u001b[?25hCollecting tifffile>=2019.7.26\n",
      "  Downloading tifffile-2021.11.2-py3-none-any.whl (178 kB)\n",
      "     |████████████████████████████████| 178 kB 118.9 MB/s            \n",
      "\u001b[?25hCollecting networkx>=2.2\n",
      "  Downloading networkx-2.6.3-py3-none-any.whl (1.9 MB)\n",
      "     |████████████████████████████████| 1.9 MB 114.4 MB/s            \n",
      "\u001b[?25hCollecting imageio>=2.4.1\n",
      "  Downloading imageio-2.13.5-py3-none-any.whl (3.3 MB)\n",
      "     |████████████████████████████████| 3.3 MB 100.8 MB/s            \n",
      "\u001b[?25hRequirement already satisfied: pillow!=7.1.0,!=7.1.1,!=8.3.0,>=6.1.0 in /home/jupyter/.conda/envs/python38/lib/python3.8/site-packages (from scikit-image>=0.16.1->albumentations) (8.4.0)\n",
      "Requirement already satisfied: packaging>=20.0 in /home/jupyter/.conda/envs/python38/lib/python3.8/site-packages (from scikit-image>=0.16.1->albumentations) (21.3)\n",
      "Collecting PyWavelets>=1.1.1\n",
      "  Downloading PyWavelets-1.2.0-cp38-cp38-manylinux_2_5_x86_64.manylinux1_x86_64.whl (6.3 MB)\n",
      "     |████████████████████████████████| 6.3 MB 91.1 MB/s            \n",
      "\u001b[?25hRequirement already satisfied: pyparsing!=3.0.5,>=2.0.2 in /home/jupyter/.conda/envs/python38/lib/python3.8/site-packages (from packaging>=20.0->scikit-image>=0.16.1->albumentations) (3.0.6)\n",
      "Collecting threadpoolctl>=2.0.0\n",
      "  Downloading threadpoolctl-3.0.0-py3-none-any.whl (14 kB)\n",
      "Collecting joblib>=0.11\n",
      "  Downloading joblib-1.1.0-py2.py3-none-any.whl (306 kB)\n",
      "     |████████████████████████████████| 306 kB 121.0 MB/s            \n",
      "\u001b[?25hInstalling collected packages: threadpoolctl, scipy, joblib, tifffile, scikit-learn, PyWavelets, opencv-python-headless, networkx, imageio, scikit-image, qudida, PyYAML, albumentations\n",
      "Successfully installed PyWavelets-1.2.0 PyYAML-6.0 albumentations-1.1.0 imageio-2.13.5 joblib-1.1.0 networkx-2.6.3 opencv-python-headless-4.5.5.62 qudida-0.0.4 scikit-image-0.19.1 scikit-learn-1.0.2 scipy-1.7.3 threadpoolctl-3.0.0 tifffile-2021.11.2\n"
     ]
    }
   ],
   "source": [
    "!pip install albumentations"
   ]
  },
  {
   "cell_type": "code",
   "execution_count": 104,
   "metadata": {},
   "outputs": [],
   "source": [
    "# フォルダ「utils」にあるdata_augumentation.pyからimport。\n",
    "# 入力画像の前処理をするクラス\n",
    "from utils.data_augumentation import Compose, ConvertFromInts, ToAbsoluteCoords, PhotometricDistort, Expand, RandomSampleCrop, RandomMirror, ToPercentCoords, Resize, SubtractMeans\n",
    "import albumentations as A\n",
    "\n",
    "class DataTransform():\n",
    "    \"\"\"\n",
    "    画像とアノテーションの前処理クラス。訓練と推論で異なる動作をする。\n",
    "    画像のサイズを300x300にする。\n",
    "    学習時はデータオーギュメンテーションする。\n",
    "\n",
    "\n",
    "    Attributes\n",
    "    ----------\n",
    "    input_size : int\n",
    "        リサイズ先の画像の大きさ。\n",
    "    color_mean : (B, G, R)\n",
    "        各色チャネルの平均値。\n",
    "    \"\"\"\n",
    "\n",
    "    def __init__(self, input_size, color_mean):\n",
    "        \"\"\"\n",
    "        self.data_transform = {\n",
    "            'train': Compose([\n",
    "                ConvertFromInts(),  # intをfloat32に変換\n",
    "                ToAbsoluteCoords(),  # アノテーションデータの規格化を戻す\n",
    "                # PhotometricDistort(),  # 画像の色調などをランダムに変化\n",
    "                # Expand(color_mean),  # 画像のキャンバスを広げる\n",
    "                # RandomSampleCrop(),  # 画像内の部分をランダムに抜き出す\n",
    "                # RandomMirror(),  # 画像を反転させる\n",
    "                ToPercentCoords(),  # アノテーションデータを0-1に規格化\n",
    "                Resize(input_size),  # 画像サイズをinput_size×input_sizeに変形\n",
    "                SubtractMeans(color_mean)  # BGRの色の平均値を引き算\n",
    "            ]),\n",
    "            'val': Compose([\n",
    "                ConvertFromInts(),  # intをfloatに変換\n",
    "                Resize(input_size),  # 画像サイズをinput_size×input_sizeに変形\n",
    "                SubtractMeans(color_mean)  # BGRの色の平均値を引き算\n",
    "            ])\n",
    "        }\n",
    "        \"\"\"\n",
    "        self.data_transform = {\n",
    "            'train': A.Compose([\n",
    "                A.HorizontalFlip(p=0.5),\n",
    "                A.RandomBrightnessContrast(p=0.2),\n",
    "            ], bbox_params = A.BboxParams(format='pascal_voc', label_fields=['class_labels'])),\n",
    "            'val': A.Compose([\n",
    "                A.HorizontalFlip(p=0.5),\n",
    "                A.RandomBrightnessContrast(p=0.2),\n",
    "            ], bbox_params = A.BboxParams(format='pascal_voc', label_fields=['class_labels']))\n",
    "        }\n",
    "            \n",
    "    def __call__(self, img, phase, boxes, labels):\n",
    "        \"\"\"\n",
    "        Parameters\n",
    "        ----------\n",
    "        phase : 'train' or 'val'\n",
    "            前処理のモードを指定。\n",
    "        \"\"\"\n",
    "        \n",
    "        return self.data_transform[phase](image=img, bboxes=boxes, class_labels=labels) # labels\n"
   ]
  },
  {
   "cell_type": "code",
   "execution_count": 105,
   "metadata": {},
   "outputs": [],
   "source": [
    "import cv2\n",
    "from matplotlib import pyplot as plt"
   ]
  },
  {
   "cell_type": "code",
   "execution_count": 89,
   "metadata": {},
   "outputs": [
    {
     "data": {
      "text/plain": [
       "(3509, 4963, 3)"
      ]
     },
     "execution_count": 89,
     "metadata": {},
     "output_type": "execute_result"
    }
   ],
   "source": [
    "# 動作の確認\n",
    "\n",
    "# 1. 画像読み込み\n",
    "image_file_path = train_img_list[0]\n",
    "img = cv2.imread(str(image_file_path))  # [高さ][幅][色BGR]\n",
    "height, width, channels = img.shape  # 画像のサイズを取得|\n",
    "height, width, channels"
   ]
  },
  {
   "cell_type": "code",
   "execution_count": 90,
   "metadata": {},
   "outputs": [
    {
     "data": {
      "text/plain": [
       "array([[1.0356504e+03, 1.0384969e+03, 3.5331040e+03, 2.2635410e+03,\n",
       "        1.0000000e+00]], dtype=float32)"
      ]
     },
     "execution_count": 90,
     "metadata": {},
     "output_type": "execute_result"
    }
   ],
   "source": [
    "# 2. アノテーションをリストに\n",
    "# transform_anno = Anno_xml2list(voc_classes)\n",
    "anno_list = voc_from_anocci_json(train_anno_list[0])\n",
    "anno_list"
   ]
  },
  {
   "cell_type": "code",
   "execution_count": 82,
   "metadata": {},
   "outputs": [
    {
     "data": {
      "image/png": "[encoded data removed]",
      "text/plain": [
       "<Figure size 432x288 with 1 Axes>"
      ]
     },
     "metadata": {
      "needs_background": "light"
     },
     "output_type": "display_data"
    }
   ],
   "source": [
    "# 3. 元画像の表示\n",
    "plt.imshow(cv2.cvtColor(img, cv2.COLOR_BGR2RGB))\n",
    "plt.show()"
   ]
  },
  {
   "cell_type": "code",
   "execution_count": 106,
   "metadata": {},
   "outputs": [],
   "source": [
    "# 4. 前処理クラスの作成\n",
    "color_mean = (104, 117, 123)  # (BGR)の色の平均値\n",
    "input_size = 300  # 画像のinputサイズを300×300にする\n",
    "transform = DataTransform(input_size, color_mean)"
   ]
  },
  {
   "cell_type": "code",
   "execution_count": 109,
   "metadata": {},
   "outputs": [],
   "source": [
    "# 5. train画像の表示\n",
    "phase = \"train\"\n",
    "_ = transform(\n",
    "    img, phase, anno_list[:, :4], anno_list[:, 4])"
   ]
  },
  {
   "cell_type": "code",
   "execution_count": 111,
   "metadata": {},
   "outputs": [],
   "source": [
    "img_transformed, boxes, labels = _[\"image\"], _[\"bboxes\"], _[\"class_labels\"]"
   ]
  },
  {
   "cell_type": "code",
   "execution_count": 112,
   "metadata": {},
   "outputs": [
    {
     "data": {
      "image/png": "[encoded data removed]",
      "text/plain": [
       "<Figure size 432x288 with 1 Axes>"
      ]
     },
     "metadata": {
      "needs_background": "light"
     },
     "output_type": "display_data"
    },
    {
     "name": "stdout",
     "output_type": "stream",
     "text": [
      "[(1035.650390625, 1038.4969482421875, 3533.10400390625, 2263.541015625)]\n",
      "[1.0]\n"
     ]
    }
   ],
   "source": [
    "plt.imshow(cv2.cvtColor(img_transformed, cv2.COLOR_BGR2RGB))\n",
    "plt.show()\n",
    "print(boxes)\n",
    "print(labels)"
   ]
  },
  {
   "cell_type": "code",
   "execution_count": 107,
   "metadata": {},
   "outputs": [
    {
     "ename": "error",
     "evalue": "OpenCV(4.5.5) :-1: error: (-5:Bad argument) in function 'cvtColor'\n> Overload resolution failed:\n>  - src is not a numpy array, neither a scalar\n>  - Expected Ptr<cv::UMat> for argument 'src'\n",
     "output_type": "error",
     "traceback": [
      "\u001b[0;31m---------------------------------------------------------------------------\u001b[0m",
      "\u001b[0;31merror\u001b[0m                                     Traceback (most recent call last)",
      "\u001b[0;32m/tmp/ipykernel_32129/1410166600.py\u001b[0m in \u001b[0;36m<module>\u001b[0;34m\u001b[0m\n\u001b[1;32m      3\u001b[0m img_transformed, boxes, labels = transform(\n\u001b[1;32m      4\u001b[0m     img, phase, anno_list[:, :4], anno_list[:, 4])\n\u001b[0;32m----> 5\u001b[0;31m \u001b[0mplt\u001b[0m\u001b[0;34m.\u001b[0m\u001b[0mimshow\u001b[0m\u001b[0;34m(\u001b[0m\u001b[0mcv2\u001b[0m\u001b[0;34m.\u001b[0m\u001b[0mcvtColor\u001b[0m\u001b[0;34m(\u001b[0m\u001b[0mimg_transformed\u001b[0m\u001b[0;34m,\u001b[0m \u001b[0mcv2\u001b[0m\u001b[0;34m.\u001b[0m\u001b[0mCOLOR_BGR2RGB\u001b[0m\u001b[0;34m)\u001b[0m\u001b[0;34m)\u001b[0m\u001b[0;34m\u001b[0m\u001b[0;34m\u001b[0m\u001b[0m\n\u001b[0m\u001b[1;32m      6\u001b[0m \u001b[0mplt\u001b[0m\u001b[0;34m.\u001b[0m\u001b[0mshow\u001b[0m\u001b[0;34m(\u001b[0m\u001b[0;34m)\u001b[0m\u001b[0;34m\u001b[0m\u001b[0;34m\u001b[0m\u001b[0m\n\u001b[1;32m      7\u001b[0m \u001b[0mprint\u001b[0m\u001b[0;34m(\u001b[0m\u001b[0mboxes\u001b[0m\u001b[0;34m)\u001b[0m\u001b[0;34m\u001b[0m\u001b[0;34m\u001b[0m\u001b[0m\n",
      "\u001b[0;31merror\u001b[0m: OpenCV(4.5.5) :-1: error: (-5:Bad argument) in function 'cvtColor'\n> Overload resolution failed:\n>  - src is not a numpy array, neither a scalar\n>  - Expected Ptr<cv::UMat> for argument 'src'\n"
     ]
    }
   ],
   "source": [
    "\n",
    "\n",
    "\n",
    "\n",
    "# 6. val画像の表示\n",
    "phase = \"val\"\n",
    "img_transformed, boxes, labels = transform(\n",
    "    img, phase, anno_list[:, :4], anno_list[:, 4])\n",
    "plt.imshow(cv2.cvtColor(img_transformed, cv2.COLOR_BGR2RGB))\n",
    "plt.show()\n"
   ]
  },
  {
   "cell_type": "markdown",
   "metadata": {},
   "source": [
    "# Datasetを作成する"
   ]
  },
  {
   "cell_type": "code",
   "execution_count": 9,
   "metadata": {},
   "outputs": [],
   "source": [
    "# VOC2012のDatasetを作成する\n",
    "\n",
    "\n",
    "class VOCDataset(data.Dataset):\n",
    "    \"\"\"\n",
    "    VOC2012のDatasetを作成するクラス。PyTorchのDatasetクラスを継承。\n",
    "\n",
    "    Attributes\n",
    "    ----------\n",
    "    img_list : リスト\n",
    "        画像のパスを格納したリスト\n",
    "    anno_list : リスト\n",
    "        アノテーションへのパスを格納したリスト\n",
    "    phase : 'train' or 'test'\n",
    "        学習か訓練かを設定する。\n",
    "    transform : object\n",
    "        前処理クラスのインスタンス\n",
    "    transform_anno : object\n",
    "        xmlのアノテーションをリストに変換するインスタンス\n",
    "    \"\"\"\n",
    "\n",
    "    def __init__(self, img_list, anno_list, phase, transform, transform_anno):\n",
    "        self.img_list = img_list\n",
    "        self.anno_list = anno_list\n",
    "        self.phase = phase  # train もしくは valを指定\n",
    "        self.transform = transform  # 画像の変形\n",
    "        self.transform_anno = transform_anno  # アノテーションデータをxmlからリストへ\n",
    "\n",
    "    def __len__(self):\n",
    "        '''画像の枚数を返す'''\n",
    "        return len(self.img_list)\n",
    "\n",
    "    def __getitem__(self, index):\n",
    "        '''\n",
    "        前処理をした画像のテンソル形式のデータとアノテーションを取得\n",
    "        '''\n",
    "        im, gt, h, w = self.pull_item(index)\n",
    "        return im, gt\n",
    "\n",
    "    def pull_item(self, index):\n",
    "        '''前処理をした画像のテンソル形式のデータ、アノテーション、画像の高さ、幅を取得する'''\n",
    "\n",
    "        # 1. 画像読み込み\n",
    "        image_file_path = self.img_list[index]\n",
    "        img = cv2.imread(image_file_path)  # [高さ][幅][色BGR]\n",
    "        height, width, channels = img.shape  # 画像のサイズを取得\n",
    "\n",
    "        # 2. xml形式のアノテーション情報をリストに\n",
    "        anno_file_path = self.anno_list[index]\n",
    "        anno_list = self.transform_anno(anno_file_path, width, height)\n",
    "\n",
    "        # 3. 前処理を実施\n",
    "        img, boxes, labels = self.transform(\n",
    "            img, self.phase, anno_list[:, :4], anno_list[:, 4])\n",
    "\n",
    "        # 色チャネルの順番がBGRになっているので、RGBに順番変更\n",
    "        # さらに（高さ、幅、色チャネル）の順を（色チャネル、高さ、幅）に変換\n",
    "        img = torch.from_numpy(img[:, :, (2, 1, 0)]).permute(2, 0, 1)\n",
    "\n",
    "        # BBoxとラベルをセットにしたnp.arrayを作成、変数名「gt」はground truth（答え）の略称\n",
    "        gt = np.hstack((boxes, np.expand_dims(labels, axis=1)))\n",
    "\n",
    "        return img, gt, height, width\n"
   ]
  },
  {
   "cell_type": "code",
   "execution_count": 10,
   "metadata": {},
   "outputs": [
    {
     "data": {
      "text/plain": [
       "(tensor([[[   0.9417,    6.1650,   11.1283,  ...,  -22.9082,  -13.2200,\n",
       "             -9.4034],\n",
       "          [   6.4367,    9.6600,   13.8283,  ...,  -21.4433,  -18.6500,\n",
       "            -18.2033],\n",
       "          [  10.8833,   13.5500,   16.7000,  ...,  -20.9917,  -24.5250,\n",
       "            -25.1917],\n",
       "          ...,\n",
       "          [ -23.9501,  -14.9000,   -1.7583,  ..., -108.6083, -111.0000,\n",
       "           -117.8083],\n",
       "          [ -28.2816,  -20.1750,   -5.5633,  ..., -104.9934, -111.8350,\n",
       "           -119.0000],\n",
       "          [ -20.4766,  -21.0000,  -12.6334,  ..., -107.1685, -115.7800,\n",
       "           -117.1100]],\n",
       " \n",
       "         [[  25.9417,   30.1650,   35.1283,  ...,  -18.0766,  -14.7250,\n",
       "            -11.8534],\n",
       "          [  31.4367,   33.6600,   37.8283,  ...,  -13.5016,  -10.8250,\n",
       "            -10.3783],\n",
       "          [  35.7917,   37.5500,   40.7000,  ...,  -11.8417,  -13.0750,\n",
       "            -14.0167],\n",
       "          ...,\n",
       "          [  -1.9501,    7.1000,   20.2417,  ..., -101.9083, -102.0000,\n",
       "           -109.7167],\n",
       "          [  -6.2816,    1.8250,   16.4367,  ..., -100.0517, -103.6700,\n",
       "           -111.0000],\n",
       "          [   1.5234,    1.0000,    9.3666,  ..., -102.5017, -107.7800,\n",
       "           -109.1100]],\n",
       " \n",
       "         [[  45.2750,   55.1650,   62.1283,  ...,   12.8501,   22.0550,\n",
       "             27.8166],\n",
       "          [  50.8800,   58.3300,   64.4983,  ...,   15.8351,   21.5150,\n",
       "             22.7967],\n",
       "          [  56.0667,   60.5500,   65.1500,  ...,   15.6416,   14.8250,\n",
       "             14.7083],\n",
       "          ...,\n",
       "          [  36.7166,   43.1000,   56.2417,  ...,  -94.7583,  -96.0000,\n",
       "           -101.9000],\n",
       "          [  32.3850,   37.8250,   52.4367,  ...,  -92.1617,  -96.0000,\n",
       "           -101.8867],\n",
       "          [  40.1900,   37.0000,   45.3666,  ...,  -94.5017,  -99.7800,\n",
       "            -99.1466]]]),\n",
       " array([[ 0.09      ,  0.03003003,  0.998     ,  0.996997  , 18.        ],\n",
       "        [ 0.122     ,  0.56756757,  0.164     ,  0.72672673, 14.        ]]))"
      ]
     },
     "execution_count": 10,
     "metadata": {},
     "output_type": "execute_result"
    }
   ],
   "source": [
    "# 動作確認\n",
    "color_mean = (104, 117, 123)  # (BGR)の色の平均値\n",
    "input_size = 300  # 画像のinputサイズを300×300にする\n",
    "\n",
    "train_dataset = VOCDataset(train_img_list, train_anno_list, phase=\"train\", transform=DataTransform(\n",
    "    input_size, color_mean), transform_anno=Anno_xml2list(voc_classes))\n",
    "\n",
    "val_dataset = VOCDataset(val_img_list, val_anno_list, phase=\"val\", transform=DataTransform(\n",
    "    input_size, color_mean), transform_anno=Anno_xml2list(voc_classes))\n",
    "\n",
    "\n",
    "# データの取り出し例\n",
    "val_dataset.__getitem__(1)\n"
   ]
  },
  {
   "cell_type": "markdown",
   "metadata": {},
   "source": [
    "# DataLoaderを作成する"
   ]
  },
  {
   "cell_type": "code",
   "execution_count": 11,
   "metadata": {},
   "outputs": [],
   "source": [
    "def od_collate_fn(batch):\n",
    "    \"\"\"\n",
    "    Datasetから取り出すアノテーションデータのサイズが画像ごとに異なります。\n",
    "    画像内の物体数が2個であれば(2, 5)というサイズですが、3個であれば（3, 5）など変化します。\n",
    "    この変化に対応したDataLoaderを作成するために、\n",
    "    カスタイマイズした、collate_fnを作成します。\n",
    "    collate_fnは、PyTorchでリストからmini-batchを作成する関数です。\n",
    "    ミニバッチ分の画像が並んでいるリスト変数batchに、\n",
    "    ミニバッチ番号を指定する次元を先頭に1つ追加して、リストの形を変形します。\n",
    "    \"\"\"\n",
    "\n",
    "    targets = []\n",
    "    imgs = []\n",
    "    for sample in batch:\n",
    "        imgs.append(sample[0])  # sample[0] は画像imgです\n",
    "        targets.append(torch.FloatTensor(sample[1]))  # sample[1] はアノテーションgtです\n",
    "\n",
    "    # imgsはミニバッチサイズのリストになっています\n",
    "    # リストの要素はtorch.Size([3, 300, 300])です。\n",
    "    # このリストをtorch.Size([batch_num, 3, 300, 300])のテンソルに変換します\n",
    "    imgs = torch.stack(imgs, dim=0)\n",
    "\n",
    "    # targetsはアノテーションデータの正解であるgtのリストです。\n",
    "    # リストのサイズはミニバッチサイズです。\n",
    "    # リストtargetsの要素は [n, 5] となっています。\n",
    "    # nは画像ごとに異なり、画像内にある物体の数となります。\n",
    "    # 5は [xmin, ymin, xmax, ymax, class_index] です\n",
    "\n",
    "    return imgs, targets\n"
   ]
  },
  {
   "cell_type": "code",
   "execution_count": 12,
   "metadata": {},
   "outputs": [
    {
     "name": "stdout",
     "output_type": "stream",
     "text": [
      "torch.Size([4, 3, 300, 300])\n",
      "4\n",
      "torch.Size([2, 5])\n"
     ]
    }
   ],
   "source": [
    "# データローダーの作成\n",
    "\n",
    "batch_size = 4\n",
    "\n",
    "train_dataloader = data.DataLoader(\n",
    "    train_dataset, batch_size=batch_size, shuffle=True, collate_fn=od_collate_fn)\n",
    "\n",
    "val_dataloader = data.DataLoader(\n",
    "    val_dataset, batch_size=batch_size, shuffle=False, collate_fn=od_collate_fn)\n",
    "\n",
    "# 辞書型変数にまとめる\n",
    "dataloaders_dict = {\"train\": train_dataloader, \"val\": val_dataloader}\n",
    "\n",
    "# 動作の確認\n",
    "batch_iterator = iter(dataloaders_dict[\"val\"])  # イタレータに変換\n",
    "images, targets = next(batch_iterator)  # 1番目の要素を取り出す\n",
    "print(images.size())  # torch.Size([4, 3, 300, 300])\n",
    "print(len(targets))\n",
    "print(targets[1].size())  # ミニバッチのサイズのリスト、各要素は[n, 5]、nは物体数\n"
   ]
  },
  {
   "cell_type": "code",
   "execution_count": 13,
   "metadata": {},
   "outputs": [
    {
     "name": "stdout",
     "output_type": "stream",
     "text": [
      "5717\n",
      "5823\n"
     ]
    }
   ],
   "source": [
    "print(train_dataset.__len__())\n",
    "print(val_dataset.__len__())\n"
   ]
  },
  {
   "cell_type": "markdown",
   "metadata": {},
   "source": [
    "以上"
   ]
  }
 ],
 "metadata": {
  "environment": {
   "kernel": "conda-env-.conda-python38-py",
   "name": "pytorch-gpu.1-9.m82",
   "type": "gcloud",
   "uri": "gcr.io/deeplearning-platform-release/pytorch-gpu.1-9:m82"
  },
  "kernelspec": {
   "display_name": "Python [conda env:.conda-python38]",
   "language": "python",
   "name": "conda-env-.conda-python38-py"
  },
  "language_info": {
   "codemirror_mode": {
    "name": "ipython",
    "version": 3
   },
   "file_extension": ".py",
   "mimetype": "text/x-python",
   "name": "python",
   "nbconvert_exporter": "python",
   "pygments_lexer": "ipython3",
   "version": "3.8.12"
  }
 },
 "nbformat": 4,
 "nbformat_minor": 4
}
